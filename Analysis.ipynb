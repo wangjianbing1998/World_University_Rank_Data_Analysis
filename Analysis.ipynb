{
 "cells": [
  {
   "cell_type": "code",
   "execution_count": 21,
   "metadata": {
    "ExecuteTime": {
     "end_time": "2020-08-14T01:38:38.986135Z",
     "start_time": "2020-08-14T01:38:38.982146Z"
    }
   },
   "outputs": [],
   "source": [
    "import pandas as pd\n",
    "from IPython.core.interactiveshell import InteractiveShell\n",
    "InteractiveShell.ast_node_interactivity='all'\n",
    "\n",
    "\n",
    "import matplotlib.pyplot as plt"
   ]
  },
  {
   "cell_type": "code",
   "execution_count": 56,
   "metadata": {
    "ExecuteTime": {
     "end_time": "2020-08-14T02:00:07.404777Z",
     "start_time": "2020-08-14T02:00:07.393827Z"
    }
   },
   "outputs": [],
   "source": [
    "df = pd.read_csv('university.csv')"
   ]
  },
  {
   "cell_type": "code",
   "execution_count": 28,
   "metadata": {
    "ExecuteTime": {
     "end_time": "2020-08-14T01:41:07.390774Z",
     "start_time": "2020-08-14T01:41:07.385774Z"
    }
   },
   "outputs": [],
   "source": [
    "def analysis_country(df):\n",
    "    df['index_rank_score'] = df['index_rank']\n",
    "    # 将index_rank列转为整形\n",
    "    df['index_rank'] = df['index_rank'].astype(int)\n",
    "    #求topn名\n",
    "    def topn(df):\n",
    "        top = df.sort_values(['year','index_rank'],ascending = True)\n",
    "        return top[:20].reset_index()\n",
    "    df = df.groupby(by =['year']).apply(topn)\n",
    "    # 更改列顺序\n",
    "    df = df[['university','index_rank_score','index_rank','year']]\n",
    "    # 重命名列\n",
    "    df.rename (columns = {'university':'name','index_rank_score':'type','index_rank':'value','year':'date'},inplace = True)\n",
    "\n",
    "    # 输出结果\n",
    "    print(df)\n",
    "#     df.to_csv('university_ranking_USA.csv',mode ='w',encoding='utf_8_sig', header=True, index=False)\n",
    "# index可以设置"
   ]
  },
  {
   "cell_type": "code",
   "execution_count": 29,
   "metadata": {
    "ExecuteTime": {
     "end_time": "2020-08-14T01:41:08.731917Z",
     "start_time": "2020-08-14T01:41:08.702928Z"
    }
   },
   "outputs": [
    {
     "data": {
      "text/html": [
       "<div>\n",
       "<style scoped>\n",
       "    .dataframe tbody tr th:only-of-type {\n",
       "        vertical-align: middle;\n",
       "    }\n",
       "\n",
       "    .dataframe tbody tr th {\n",
       "        vertical-align: top;\n",
       "    }\n",
       "\n",
       "    .dataframe thead th {\n",
       "        text-align: right;\n",
       "    }\n",
       "</style>\n",
       "<table border=\"1\" class=\"dataframe\">\n",
       "  <thead>\n",
       "    <tr style=\"text-align: right;\">\n",
       "      <th></th>\n",
       "      <th>world rank</th>\n",
       "      <th>university</th>\n",
       "      <th>score</th>\n",
       "      <th>index_rank</th>\n",
       "      <th>year</th>\n",
       "      <th>country</th>\n",
       "    </tr>\n",
       "  </thead>\n",
       "  <tbody>\n",
       "    <tr>\n",
       "      <td>0</td>\n",
       "      <td>1</td>\n",
       "      <td>哈佛大学</td>\n",
       "      <td>100.0</td>\n",
       "      <td>1</td>\n",
       "      <td>2009</td>\n",
       "      <td>UnitedStates</td>\n",
       "    </tr>\n",
       "    <tr>\n",
       "      <td>1</td>\n",
       "      <td>2</td>\n",
       "      <td>斯坦福大学</td>\n",
       "      <td>73.1</td>\n",
       "      <td>2</td>\n",
       "      <td>2009</td>\n",
       "      <td>UnitedStates</td>\n",
       "    </tr>\n",
       "    <tr>\n",
       "      <td>2</td>\n",
       "      <td>3</td>\n",
       "      <td>加州大学-伯克利</td>\n",
       "      <td>71.0</td>\n",
       "      <td>3</td>\n",
       "      <td>2009</td>\n",
       "      <td>UnitedStates</td>\n",
       "    </tr>\n",
       "    <tr>\n",
       "      <td>4</td>\n",
       "      <td>5</td>\n",
       "      <td>麻省理工学院</td>\n",
       "      <td>69.5</td>\n",
       "      <td>5</td>\n",
       "      <td>2009</td>\n",
       "      <td>UnitedStates</td>\n",
       "    </tr>\n",
       "    <tr>\n",
       "      <td>5</td>\n",
       "      <td>6</td>\n",
       "      <td>加州理工学院</td>\n",
       "      <td>64.8</td>\n",
       "      <td>6</td>\n",
       "      <td>2009</td>\n",
       "      <td>UnitedStates</td>\n",
       "    </tr>\n",
       "    <tr>\n",
       "      <td>...</td>\n",
       "      <td>...</td>\n",
       "      <td>...</td>\n",
       "      <td>...</td>\n",
       "      <td>...</td>\n",
       "      <td>...</td>\n",
       "      <td>...</td>\n",
       "    </tr>\n",
       "    <tr>\n",
       "      <td>5003</td>\n",
       "      <td>401-500</td>\n",
       "      <td>威斯康星大学-密尔沃基</td>\n",
       "      <td>NaN</td>\n",
       "      <td>494</td>\n",
       "      <td>2018</td>\n",
       "      <td>USA</td>\n",
       "    </tr>\n",
       "    <tr>\n",
       "      <td>5004</td>\n",
       "      <td>401-500</td>\n",
       "      <td>怀俄明大学</td>\n",
       "      <td>NaN</td>\n",
       "      <td>495</td>\n",
       "      <td>2018</td>\n",
       "      <td>USA</td>\n",
       "    </tr>\n",
       "    <tr>\n",
       "      <td>5005</td>\n",
       "      <td>401-500</td>\n",
       "      <td>犹他州立大学</td>\n",
       "      <td>NaN</td>\n",
       "      <td>496</td>\n",
       "      <td>2018</td>\n",
       "      <td>USA</td>\n",
       "    </tr>\n",
       "    <tr>\n",
       "      <td>5008</td>\n",
       "      <td>401-500</td>\n",
       "      <td>韦恩州立大学</td>\n",
       "      <td>NaN</td>\n",
       "      <td>499</td>\n",
       "      <td>2018</td>\n",
       "      <td>USA</td>\n",
       "    </tr>\n",
       "    <tr>\n",
       "      <td>5009</td>\n",
       "      <td>401-500</td>\n",
       "      <td>西弗吉尼亚大学</td>\n",
       "      <td>NaN</td>\n",
       "      <td>500</td>\n",
       "      <td>2018</td>\n",
       "      <td>USA</td>\n",
       "    </tr>\n",
       "  </tbody>\n",
       "</table>\n",
       "<p>1459 rows × 6 columns</p>\n",
       "</div>"
      ],
      "text/plain": [
       "     world rank   university  score index_rank  year       country\n",
       "0             1         哈佛大学  100.0          1  2009  UnitedStates\n",
       "1             2        斯坦福大学   73.1          2  2009  UnitedStates\n",
       "2             3     加州大学-伯克利   71.0          3  2009  UnitedStates\n",
       "4             5       麻省理工学院   69.5          5  2009  UnitedStates\n",
       "5             6       加州理工学院   64.8          6  2009  UnitedStates\n",
       "...         ...          ...    ...        ...   ...           ...\n",
       "5003    401-500  威斯康星大学-密尔沃基    NaN        494  2018           USA\n",
       "5004    401-500        怀俄明大学    NaN        495  2018           USA\n",
       "5005    401-500       犹他州立大学    NaN        496  2018           USA\n",
       "5008    401-500       韦恩州立大学    NaN        499  2018           USA\n",
       "5009    401-500      西弗吉尼亚大学    NaN        500  2018           USA\n",
       "\n",
       "[1459 rows x 6 columns]"
      ]
     },
     "execution_count": 29,
     "metadata": {},
     "output_type": "execute_result"
    }
   ],
   "source": [
    "# 包含港澳台\n",
    "df_China = df.query(\"(country == 'China')|(country == 'China-hk')|(country == 'China-tw')|(country == 'China-HongKong')|(country == 'China-Taiwan')|(country == 'Taiwan,China')|(country == 'HongKong,China')\")[['university','year','index_rank']]\n",
    "# 只包括内地\n",
    "df_Mainland = df.query(\"country == 'China'\")\n",
    "\n",
    "# 美国\n",
    "df_US = df.query(\"(country == 'UnitedStates')|(country == 'USA')\")\n",
    "df_US"
   ]
  },
  {
   "cell_type": "code",
   "execution_count": 30,
   "metadata": {
    "ExecuteTime": {
     "end_time": "2020-08-14T01:41:09.897271Z",
     "start_time": "2020-08-14T01:41:09.890267Z"
    }
   },
   "outputs": [
    {
     "data": {
      "text/plain": [
       "array(['哈佛大学', '斯坦福大学', '加州大学-伯克利', '剑桥大学', '麻省理工学院', '加州理工学院', '哥伦比亚大学',\n",
       "       '普林斯顿大学', '芝加哥大学', '牛津大学', '耶鲁大学', '康乃尔大学', '加州大学-洛杉矶',\n",
       "       '加州大学-圣地亚哥', '宾夕法尼亚大学', '华盛顿大学-西雅图', '威斯康星大学-麦迪逊', '加州大学-旧金山',\n",
       "       '约翰霍普金斯大学', '东京大学', '伦敦大学学院', '密歇根大学-安娜堡', '苏黎世联邦理工学院', '京都大学',\n",
       "       '伊利诺伊大学厄巴纳-香槟分校', '伦敦帝国学院', '多伦多大学', '明尼苏达大学-双城', '华盛顿大学-圣路易斯',\n",
       "       '西北大学(美国)', '杜克大学', '纽约大学', '洛克菲勒大学', '科罗拉多大学-波德', '加州大学-圣塔芭芭拉',\n",
       "       '英属哥伦比亚大学', '马里兰大学-大学城', '德克萨斯州大学奥斯汀分校', '北卡罗来纳大学-教堂山', '巴黎第六大学',\n",
       "       '曼彻斯特大学', '范德堡大学', '哥本哈根大学', '巴黎第十一大学', '宾夕法尼亚州立大学-大学城', '加州大学-欧文',\n",
       "       '南加州大学', '德克萨斯大学西南医学中心', '加州大学-戴维斯', '卡罗林斯卡学院', '匹兹堡大学', '乌得勒支大学',\n",
       "       '爱丁堡大学', '苏黎世大学', '罗格斯大学新布朗斯维克分校', '慕尼黑大学', '慕尼黑工业大学', '佛罗里达大学',\n",
       "       '卡内基梅隆大学', '澳大利亚国立大学', '布里斯托尔大学', '俄亥俄州立大学-哥伦布', '海德堡大学',\n",
       "       '耶路撒冷希伯来大学', '伦敦国王学院', '麦吉尔大学', '普渡大学-西拉法叶', '奥斯陆大学', '布朗大学',\n",
       "       '巴黎高等师范学校', '大阪大学', '莱顿大学', '赫尔辛基大学', '波士顿大学', '墨尔本大学', '乌普萨拉大学',\n",
       "       '莫斯科国立大学', '亚利桑那大学', '罗切斯特大学', '犹他大学', '谢菲尔德大学', '名古屋大学', '诺丁汉大学',\n",
       "       '东北大学(日本)', '巴塞尔大学', '密歇根州立大学', '凯斯西储大学', '斯德哥尔摩大学', '德州农工大学',\n",
       "       '哥廷根大学', '麦克马斯特大学', '弗吉尼亚大学', '印第安纳大学-布鲁明顿', '亚利桑那州立大学', '伯明翰大学',\n",
       "       '悉尼大学', '奥胡斯大学', '波恩大学', '莱斯大学', '埃莫里大学', '贝勒医学院', '鲁汶大学(佛兰德语)',\n",
       "       '鲁汶大学(法语)', '达特茅斯学院', '佐治亚理工学院', '根特大学', '隆德大学', '梅奥临床医学院', '台湾大学',\n",
       "       '新加坡国立大学', '北卡罗来纳州立大学-罗利', '俄勒冈州立大学', '洛桑联邦理工学院', '以色列理工学院',\n",
       "       '特拉维夫大学', '佐治亚大学', '格拉斯哥大学', '昆士兰大学', '西澳大利亚大学', '东京工业大学', '塔夫茨大学',\n",
       "       '布鲁塞尔自由大学(法语)', '阿尔伯塔大学', '阿姆斯特丹大学', '加州大学-河滨', '加州大学-圣克鲁兹',\n",
       "       '法兰克福大学', '弗莱堡大学', '日内瓦大学', '格罗宁根大学', '夏威夷大学马诺阿分校', '爱荷华大学',\n",
       "       '利兹大学', '利物浦大学', '美因茨大学', '马萨诸塞大学-阿默斯特', '马萨诸塞大学医学院', '迈阿密大学',\n",
       "       '米兰大学', '蒙特利尔大学', '明斯特大学', '巴黎第七大学', '比萨大学', '罗马第一大学', '圣保罗大学',\n",
       "       '斯特拉斯堡大学', '苏赛克斯大学', '图宾根大学', '瓦格宁根大学', '维尔茨堡大学', '阿姆斯特丹自由大学',\n",
       "       '卡迪夫大学', '科罗拉多州立大学', '代尔夫特理工大学', '伊拉兹马斯大学', '佛罗里达州立大学', '乔治梅森大学',\n",
       "       '北海道大学', '爱荷华州立大学', '格勒诺布尔第一大学', '九州大学', '西奈山医学院', '墨西哥国立自治大学',\n",
       "       '俄勒冈卫生科学大学', '伦敦大学玛丽女王学院', '奈梅亨大学', '首尔国立大学', '纽约州立大学-石溪',\n",
       "       '丹麦技术大学', '阿拉巴马大学-伯明翰', '康涅狄格大学-斯道思', '德克萨斯大学卫生科学中心-休斯顿',\n",
       "       '德克萨斯大学安德森肿瘤中心', '巴塞罗那大学', '伯尔尼大学', '布宜诺斯艾利斯大学', '辛辛那提大学',\n",
       "       '科罗拉多大学-丹佛', '特拉华大学', '杜伦大学', '东英吉利大学', '汉堡大学', '伊利诺大学-芝加哥',\n",
       "       '基尔大学', '科隆大学', '莱斯特大学', '马里兰大学-巴尔的摩', '内布拉斯加大学-林肯', '新南威尔士大学',\n",
       "       '帕多瓦大学', '巴黎第五大学', '南安普敦大学', '圣安德鲁斯大学', '田纳西大学-诺克斯维尔', '筑波大学',\n",
       "       '维也纳大学', '华威大学', '弗吉尼亚联邦(州立)大学', '弗吉尼亚理工学院', '魏茨曼科学研究学院',\n",
       "       '马德里自治大学', '布兰迪斯大学', '布拉格查尔斯大学', '里昂第一大学', '马德里康普顿斯大学', '达尔豪斯大学',\n",
       "       '巴黎综合理工学院', '巴黎工业物理化学学校', '庆应义塾大学', '神户大学', '韩国科学技术院', '兰卡斯特大学',\n",
       "       '拉瓦尔大学', '伦敦政治经济学院', '伦敦大学卫生和热带医学学院', '路易斯安娜州立大学-巴吞鲁日', '麦考瑞大学',\n",
       "       '维也纳医科大学', '莫纳什大学', '南京大学', '雅典大学', '台湾成功大学', '台湾清华大学',\n",
       "       '纽卡斯尔大学-上泰恩', '挪威科学技术大学', '图卢兹第三大学', '北京大学', '皇后大学', '贝尔法斯特女王大学',\n",
       "       '伦斯勒理工学院', '皇家理工学院', '亚琛工业大学', '上海交通大学', '西蒙弗雷泽大学', '坎皮纳斯州立大学',\n",
       "       '纽约州立大学-奥尔巴尼', '纽约州立大学-布法罗', '柏林工业大学', '香港中文大学', '乔治华盛顿大学',\n",
       "       '香港科技大学', '阿德雷德大学', '奥克兰大学', '卡尔加里大学', '邓迪大学', '香港大学',\n",
       "       '新墨西哥大学-阿尔伯克基', '雷丁大学', '德克萨斯大学卫生科学中心-圣安东尼奥', '都柏林三一学院', '清华大学',\n",
       "       '于默奥大学', '阿伯丁大学', '安特卫普大学', '巴思大学', '卑尔根大学', '波鸿大学', '博洛尼亚大学',\n",
       "       '波尔多第一大学', '开普敦大学', '中佛罗里达大学', '杜塞尔多夫大学', '埃朗根-纽伦堡大学', '佛罗伦萨大学',\n",
       "       '哥德堡大学', '圭尔夫大学', '哈勒-维腾贝格大学', '休斯顿大学', '因斯布鲁克大学', '堪萨斯大学-劳伦斯',\n",
       "       '卡尔斯鲁厄理工学院', '肯塔基大学', '洛桑大学', '莱比锡大学', '列日大学', '马尼托巴大学', '马尔堡大学',\n",
       "       'University of Medicine and Dentistry New Jersey', '密苏里大学-哥伦比亚',\n",
       "       '蒙彼利埃第二大学', '圣母玛利亚大学', '俄勒冈大学', '奥塔哥大学', '渥太华大学', '萨斯喀彻温大学',\n",
       "       '中国科学技术大学', '南卡罗来纳大学-哥伦比亚', '南佛罗里达大学', '斯图加特大学',\n",
       "       'University of the Mediterranean (Aix-Marseille 2)', '都灵大学',\n",
       "       '巴伦西亚大学', '佛蒙特大学', '维多利亚大学', '滑铁卢大学', '约克大学(英国)', '华盛顿州立大学-普尔曼',\n",
       "       '韦恩州立大学', '西安大略大学', '叶史瓦大学', '延世大学', '浙江大学', '萨洛尼卡大学', '巴塞罗那自治大学',\n",
       "       '巴依兰大学', '内盖夫本·古里安大学', '杨百翰大学-普罗沃', '查尔姆斯理工大学', '香港城市大学',\n",
       "       '纽约城市大学-城市学院', '克莱姆森大学', '达姆施塔特工业大学', '德累斯顿工业大学', '巴黎高等矿业学校',\n",
       "       '罗兰大学', '米纳斯吉拉斯联邦大学', '里约热内卢联邦大学', '弗林德斯大学', '复旦大学', '乔治城大学',\n",
       "       '汉阳大学', '洛林大学', '广岛大学', '印度科学理工学院', '印第安纳大学-印第安纳波利斯', '克拉科夫雅盖隆大学',\n",
       "       '金泽大学', '堪萨斯州立大学', '高丽大学', '南卡罗来纳医科大学', '长崎大学', '南洋理工大学', '台湾交通大学',\n",
       "       '新潟大学', '冈山大学', '浦项理工大学', '米兰理工大学', '瓦伦西亚理工大学', '圣路易斯大学',\n",
       "       '圣彼得堡国立大学', '圣地亚哥州立大学', '比萨高等师范学校', '山东大学', '纽约州立大学卫生科学中心-布鲁克林',\n",
       "       '成均馆大学', '瑞典农业科学大学', '雪城大学', '布伦瑞克工业大学', '坦普尔大学', '德克萨斯技术大学',\n",
       "       '香港理工大学', '开放大学', '蒙大拿大学-密索拉', '德克萨斯大学-达拉斯', '德克萨斯大学医学部-加尔维斯顿',\n",
       "       '德岛大学', '托马斯杰斐逊大学', '东京医牙大学', '杜兰大学', '科克大学学院', '都柏林大学学院',\n",
       "       '阿拉斯加大学-费尔班克斯', '阿肯色大学-菲耶特维勒', '拜罗伊特大学', '比勒费尔德大学', '不来梅大学',\n",
       "       '杜伊斯堡-埃森大学', '埃克塞特大学', '费拉拉大学', '热那亚大学', '吉森大学', '卡尔·弗朗岑斯格拉茨大学',\n",
       "       '耶拿大学', '康斯坦茨大学', '马斯特里赫特大学', '那不勒斯菲里德里克第二大学', '内布拉斯加大学医学中心',\n",
       "       '内华达大学-里诺', '新罕布什尔大学-达勒姆', '纽卡斯尔大学', '俄克拉荷马大学-诺曼', '奥卢大学', '巴勒莫大学',\n",
       "       '巴黎第九大学', 'University of Provence (Aix-Marseille 1)', '雷根斯堡大学',\n",
       "       '雷恩第一大学', '罗德岛大学', '南丹麦大学', '萨里大学', '塞格德大学', '塔斯马尼亚大学', '金山大学',\n",
       "       '图尔库大学', '特文特大学', '乌尔姆大学', '华沙大学', '卧龙冈大学', '布鲁塞尔自由大学(佛兰德语)',\n",
       "       '维克森林大学', '早稻田大学', '奥本大学', '波士顿学院', '布鲁内尔大学', '卡尔顿大学', '智利天主教大学',\n",
       "       '圣心天主教大学', '长庚大学', '千叶大学', '中国农业大学', '科庭大学', '大连理工大学', '德雷塞尔大学',\n",
       "       '里昂高等师范学校', '爱媛大学', '埃因霍温工业大学', '南里奥格兰德联邦大学', '岐阜大学', '群马大学',\n",
       "       '汉诺威医学院', '哈尔滨工业大学', '华中科技大学', '印度理工学院-卡哈拉格普尔', '伊斯坦布尔大学',\n",
       "       '詹姆斯库克大学', '吉林大学', '鹿儿岛大学', '沙特国王大学', '熊本大学', '庆北国立大学', '乐卓博大学',\n",
       "       '兰州大学', '利哈伊大学', '林雪平大学', '梅西大学', '威斯康星医学院', '格拉茨医科大学',\n",
       "       '因斯布鲁克医科大学', '蒙大拿州立大学-勃兹曼', '南开大学', '奈良科技大学', '台湾中央大学', '台湾阳明大学',\n",
       "       '日本大学', '东北大学(美国)', '大阪市立大学', '大阪府立大学', '都灵理工大学', '釜山国立大学',\n",
       "       '伦敦大学皇家霍洛威学院', '圣保罗联邦大学', '四川大学', '南卫理公会大学', '斯德哥尔摩经济学院', '中山大学',\n",
       "       '斯威本科技大学', '康涅狄格大学卫生中心', '天津大学', '东京农工大学', '巴里大学', '坎特伯雷大学',\n",
       "       '智利大学', '多特蒙德大学', '东芬兰大学', '艾塞克斯大学', '弗里堡大学', '格拉纳达大学',\n",
       "       '格赖夫斯瓦尔德大学', '海法大学', '汉诺威大学', '赫特福德大学', '于韦斯屈莱大学', '勘萨斯大学医学中心',\n",
       "       '夸祖鲁-纳塔尔大学', '里尔第一大学', '里斯本大学', '卢布尔雅那大学', '路易斯维尔大学',\n",
       "       '马里兰大学-巴尔的摩县', '尼斯大学', '帕尔玛大学', '帕维亚大学', '佩鲁贾大学', '庞培法布拉大学',\n",
       "       '波尔图大学', '魁北克大学', '罗马第三大学', '圣地亚哥联合大学', '塞维利亚大学', '谢布鲁克大学',\n",
       "       '锡耶纳大学', '德黑兰大学', '特罗姆瑟大学', '怀俄明大学', '萨拉戈萨大学', '犹他州立大学', '波尔多第二大学',\n",
       "       '惠灵顿维多利亚大学', '维也纳工业大学', '山口大学', '约克大学(加拿大)', 'university', '阿尔托大学',\n",
       "       '肯考迪娅大学', '肯特州立大学', '法赫德国王石油矿产大学', '庆熙大学', '俄亥俄大学-雅典', '波特兰州立大学',\n",
       "       '东南大学', '德克萨斯大学-圣安东尼奥', '阿肯色大学-小石城', '凡尔赛大学', '武汉大学', '厦门大学',\n",
       "       '西安交通大学', '艾克斯-马赛大学', '北京师范大学', '北京航空航天大学', '开罗大学', '忠南国立大学',\n",
       "       '格里菲思大学', '蒂尔堡大学', '马来亚大学', '米兰比可卡大学', '悉尼科技大学', '维戈大学',\n",
       "       '威斯康星大学-密尔沃基', '萨格勒布大学', '阿卜杜勒阿齐兹国王大学', '巴斯克大学', '中南大学',\n",
       "       '中国医药大学(台湾)', '台湾中山大学', '北京协和医学院', '华南理工大学', '斯旺西大学',\n",
       "       'Technical University of Lisbon', '同济大学', '贝尔格莱德大学', '波尔多大学',\n",
       "       '韩国天主教大学', '阿卜杜拉国王科技大学', '科英布拉大学', '爱达荷大学', '圣保罗州立大学', '奥尔堡大学',\n",
       "       '首都医科大学', '迪肯大学', '华东理工大学', '梨花女子大学', '南京医科大学', '俄克拉荷马州立大学',\n",
       "       '加泰罗尼亚理工大学', '拉什大学', '苏州大学', '斯坦陵布什大学', '东京科学大学', '奥弗涅大学',\n",
       "       '卡利亚里大学', '罗斯托克大学', '马来西亚理科大学', '田纳西大学卫生科学中心', '的里雅斯特大学',\n",
       "       '科罗拉多大学-玻尔得', '图卢兹经济学院', '肯塔基?笱?/a>', '蒙彼利埃大学', '佛罗里达国际大学',\n",
       "       '昆士兰科技大学', '沙力夫理工大学', '康奈尔大学', '奥克兰大学(新西兰)', '中国地质大学（武汉）',\n",
       "       '爱尔兰国立大学高威', '电子科技大学', '北德克萨斯州大学', '西悉尼大学', '阿米尔卡比尔理工大学',\n",
       "       '威尔士班戈大学', '北京化工大学', '东华大学', '香港浸会大学', '湖南大学', '高雄医学大学', '南京理工大学',\n",
       "       '马来西亚国民大学', '东北师范大学', '新西伯利亚国立大学', '中国海洋大学', '巴黎第四大学', '皇家墨尔本理工大学',\n",
       "       '圣乔治医学院', '阿威罗大学', '米尼奥大学', '波茨坦大学', '罗马第二大学', '萨勒诺大学', '塔尔图大学',\n",
       "       '洛维拉·依维尔基里大学', '圣拉斐尔生命健康大学', '西弗吉尼亚大学', '武汉理工大学', '西北大学（埃文斯顿）',\n",
       "       '鲁汶大学（佛兰德语）', '鲁汶大学（法语）', '东北大学（仙台）', '中国医药大学', '格勒诺布尔大学',\n",
       "       '布鲁塞尔自由大学（法语）', '德国基尔大学', '纽卡斯尔大学（英国纽卡斯尔）', '东北大学（波士顿）',\n",
       "       '奥克兰大学（新西兰）', '约克大学（约克）', '弗吉尼亚联邦（州立）大学', '布鲁塞尔自由大学（佛兰德语）',\n",
       "       '纽卡斯尔大学（澳大利亚纽卡斯尔）', '哈勒-维滕贝格大学', '图卢兹第一大学', '朱拉隆功大学', '华东师范大学',\n",
       "       '庆尚大学', '哈尔滨工程大学', '赫瑞瓦特大学', '华中农业大学', '南京农业大学', '南京航空航天大学',\n",
       "       '雅典国家技术大学', '新墨西哥州立大学-拉斯克鲁塞斯', '东北大学（沈阳）', '西北大学（西安）',\n",
       "       '德克萨斯大学阿灵顿分校', '蔚山国立科技研究所', '海梅一世大学', '冰岛大学', '约翰内斯堡大学',\n",
       "       '尼斯-索菲亚综合理工学院', '索邦大学', '西北工业大学', '北京理工大学', '重庆大学', '密西西比州立大学',\n",
       "       '莫斯科物理技术学院', '南京工业大学', '南京信息工程大学', '上海大学', '肯特大学', '缅因大学-奥罗诺',\n",
       "       '比勒陀利亚大学', '北京科技大学', '蔚山大学'], dtype=object)"
      ]
     },
     "execution_count": 30,
     "metadata": {},
     "output_type": "execute_result"
    }
   ],
   "source": [
    "df['university'].unique()"
   ]
  },
  {
   "cell_type": "code",
   "execution_count": 31,
   "metadata": {
    "ExecuteTime": {
     "end_time": "2020-08-14T01:41:54.187695Z",
     "start_time": "2020-08-14T01:41:54.181671Z"
    }
   },
   "outputs": [
    {
     "data": {
      "text/plain": [
       "array(['哈佛大学', '斯坦福大学', '加州大学-伯克利', '麻省理工学院', '加州理工学院', '哥伦比亚大学',\n",
       "       '普林斯顿大学', '芝加哥大学', '耶鲁大学', '康乃尔大学', '加州大学-洛杉矶', '加州大学-圣地亚哥',\n",
       "       '宾夕法尼亚大学', '华盛顿大学-西雅图', '威斯康星大学-麦迪逊', '加州大学-旧金山', '约翰霍普金斯大学',\n",
       "       '密歇根大学-安娜堡', '伊利诺伊大学厄巴纳-香槟分校', '明尼苏达大学-双城', '华盛顿大学-圣路易斯',\n",
       "       '西北大学(美国)', '杜克大学', '纽约大学', '洛克菲勒大学', '科罗拉多大学-波德', '加州大学-圣塔芭芭拉',\n",
       "       '马里兰大学-大学城', '德克萨斯州大学奥斯汀分校', '北卡罗来纳大学-教堂山', '范德堡大学',\n",
       "       '宾夕法尼亚州立大学-大学城', '加州大学-欧文', '南加州大学', '德克萨斯大学西南医学中心', '加州大学-戴维斯',\n",
       "       '匹兹堡大学', '罗格斯大学新布朗斯维克分校', '佛罗里达大学', '卡内基梅隆大学', '俄亥俄州立大学-哥伦布',\n",
       "       '普渡大学-西拉法叶', '布朗大学', '波士顿大学', '亚利桑那大学', '罗切斯特大学', '犹他大学',\n",
       "       '密歇根州立大学', '凯斯西储大学', '德州农工大学', '弗吉尼亚大学', '印第安纳大学-布鲁明顿', '亚利桑那州立大学',\n",
       "       '莱斯大学', '埃莫里大学', '贝勒医学院', '达特茅斯学院', '佐治亚理工学院', '梅奥临床医学院',\n",
       "       '北卡罗来纳州立大学-罗利', '俄勒冈州立大学', '佐治亚大学', '塔夫茨大学', '加州大学-河滨',\n",
       "       '加州大学-圣克鲁兹', '夏威夷大学马诺阿分校', '爱荷华大学', '马萨诸塞大学-阿默斯特', '马萨诸塞大学医学院',\n",
       "       '迈阿密大学', '科罗拉多州立大学', '佛罗里达州立大学', '乔治梅森大学', '爱荷华州立大学', '西奈山医学院',\n",
       "       '俄勒冈卫生科学大学', '纽约州立大学-石溪', '阿拉巴马大学-伯明翰', '康涅狄格大学-斯道思',\n",
       "       '德克萨斯大学卫生科学中心-休斯顿', '德克萨斯大学安德森肿瘤中心', '辛辛那提大学', '科罗拉多大学-丹佛',\n",
       "       '特拉华大学', '伊利诺大学-芝加哥', '马里兰大学-巴尔的摩', '内布拉斯加大学-林肯', '田纳西大学-诺克斯维尔',\n",
       "       '弗吉尼亚联邦(州立)大学', '弗吉尼亚理工学院', '布兰迪斯大学', '路易斯安娜州立大学-巴吞鲁日', '伦斯勒理工学院',\n",
       "       '纽约州立大学-奥尔巴尼', '纽约州立大学-布法罗', '乔治华盛顿大学', '新墨西哥大学-阿尔伯克基',\n",
       "       '德克萨斯大学卫生科学中心-圣安东尼奥', '中佛罗里达大学', '休斯顿大学', '堪萨斯大学-劳伦斯', '肯塔基大学',\n",
       "       'University of Medicine and Dentistry New Jersey', '密苏里大学-哥伦比亚',\n",
       "       '圣母玛利亚大学', '俄勒冈大学', '南卡罗来纳大学-哥伦比亚', '南佛罗里达大学', '佛蒙特大学',\n",
       "       '华盛顿州立大学-普尔曼', '韦恩州立大学', '叶史瓦大学', '杨百翰大学-普罗沃', '纽约城市大学-城市学院',\n",
       "       '克莱姆森大学', '乔治城大学', '印第安纳大学-印第安纳波利斯', '堪萨斯州立大学', '南卡罗来纳医科大学',\n",
       "       '圣路易斯大学', '圣地亚哥州立大学', '纽约州立大学卫生科学中心-布鲁克林', '雪城大学', '坦普尔大学',\n",
       "       '德克萨斯技术大学', '蒙大拿大学-密索拉', '德克萨斯大学-达拉斯', '德克萨斯大学医学部-加尔维斯顿',\n",
       "       '托马斯杰斐逊大学', '杜兰大学', '阿拉斯加大学-费尔班克斯', '阿肯色大学-菲耶特维勒', '内布拉斯加大学医学中心',\n",
       "       '内华达大学-里诺', '新罕布什尔大学-达勒姆', '俄克拉荷马大学-诺曼', '罗德岛大学', '维克森林大学', '奥本大学',\n",
       "       '波士顿学院', '德雷塞尔大学', '利哈伊大学', '威斯康星医学院', '蒙大拿州立大学-勃兹曼', '东北大学(美国)',\n",
       "       '南卫理公会大学', '康涅狄格大学卫生中心', '勘萨斯大学医学中心', '路易斯维尔大学', '马里兰大学-巴尔的摩县',\n",
       "       '怀俄明大学', '犹他州立大学', '肯特州立大学', '俄亥俄大学-雅典', '波特兰州立大学', '德克萨斯大学-圣安东尼奥',\n",
       "       '阿肯色大学-小石城', '威斯康星大学-密尔沃基', '爱达荷大学', '俄克拉荷马州立大学', '拉什大学',\n",
       "       '田纳西大学卫生科学中心', '科罗拉多大学-玻尔得', '肯塔基?笱?/a>', '佛罗里达国际大学', '康奈尔大学',\n",
       "       '北德克萨斯州大学', '西弗吉尼亚大学', '西北大学（埃文斯顿）', '东北大学（波士顿）', '弗吉尼亚联邦（州立）大学',\n",
       "       '新墨西哥州立大学-拉斯克鲁塞斯', '德克萨斯大学阿灵顿分校', '密西西比州立大学', '缅因大学-奥罗诺'],\n",
       "      dtype=object)"
      ]
     },
     "execution_count": 31,
     "metadata": {},
     "output_type": "execute_result"
    }
   ],
   "source": [
    "df_US['university'].unique()"
   ]
  },
  {
   "cell_type": "code",
   "execution_count": 32,
   "metadata": {
    "ExecuteTime": {
     "end_time": "2020-08-14T01:41:55.385557Z",
     "start_time": "2020-08-14T01:41:55.379545Z"
    }
   },
   "outputs": [
    {
     "data": {
      "text/plain": [
       "array(['台湾大学', '南京大学', '台湾成功大学', '台湾清华大学', '北京大学', '上海交通大学', '香港中文大学',\n",
       "       '香港科技大学', '香港大学', '清华大学', '中国科学技术大学', '浙江大学', '香港城市大学', '复旦大学',\n",
       "       '台湾交通大学', '山东大学', '香港理工大学', '长庚大学', '中国农业大学', '大连理工大学', '哈尔滨工业大学',\n",
       "       '华中科技大学', '吉林大学', '兰州大学', '南开大学', '台湾中央大学', '台湾阳明大学', '四川大学',\n",
       "       '中山大学', '天津大学', '东南大学', '武汉大学', '厦门大学', '西安交通大学', '北京师范大学',\n",
       "       '北京航空航天大学', '中南大学', '中国医药大学(台湾)', '台湾中山大学', '北京协和医学院', '华南理工大学',\n",
       "       '同济大学', '首都医科大学', '华东理工大学', '南京医科大学', '苏州大学', '中国地质大学（武汉）',\n",
       "       '电子科技大学', '北京化工大学', '东华大学', '香港浸会大学', '湖南大学', '高雄医学大学', '南京理工大学',\n",
       "       '东北师范大学', '中国海洋大学', '武汉理工大学', '中国医药大学', '华东师范大学', '哈尔滨工程大学',\n",
       "       '华中农业大学', '南京农业大学', '南京航空航天大学', '东北大学（沈阳）', '西北大学（西安）', '西北工业大学',\n",
       "       '北京理工大学', '重庆大学', '南京工业大学', '南京信息工程大学', '上海大学', '北京科技大学'],\n",
       "      dtype=object)"
      ]
     },
     "execution_count": 32,
     "metadata": {},
     "output_type": "execute_result"
    }
   ],
   "source": [
    "df_China['university'].unique()"
   ]
  },
  {
   "cell_type": "code",
   "execution_count": 33,
   "metadata": {
    "ExecuteTime": {
     "end_time": "2020-08-14T01:41:58.377349Z",
     "start_time": "2020-08-14T01:41:58.371362Z"
    }
   },
   "outputs": [
    {
     "data": {
      "text/plain": [
       "array(['南京大学', '北京大学', '上海交通大学', '清华大学', '中国科学技术大学', '浙江大学', '复旦大学',\n",
       "       '山东大学', '中国农业大学', '大连理工大学', '哈尔滨工业大学', '华中科技大学', '吉林大学', '兰州大学',\n",
       "       '南开大学', '四川大学', '中山大学', '天津大学', '东南大学', '武汉大学', '厦门大学', '西安交通大学',\n",
       "       '北京师范大学', '北京航空航天大学', '中南大学', '北京协和医学院', '华南理工大学', '同济大学',\n",
       "       '首都医科大学', '华东理工大学', '南京医科大学', '苏州大学', '中国地质大学（武汉）', '电子科技大学',\n",
       "       '北京化工大学', '东华大学', '湖南大学', '南京理工大学', '东北师范大学', '中国海洋大学', '武汉理工大学',\n",
       "       '华东师范大学', '哈尔滨工程大学', '华中农业大学', '南京农业大学', '南京航空航天大学', '东北大学（沈阳）',\n",
       "       '西北大学（西安）', '西北工业大学', '北京理工大学', '重庆大学', '南京工业大学', '南京信息工程大学',\n",
       "       '上海大学', '北京科技大学'], dtype=object)"
      ]
     },
     "execution_count": 33,
     "metadata": {},
     "output_type": "execute_result"
    }
   ],
   "source": [
    "df_Mainland['university'].unique()"
   ]
  },
  {
   "cell_type": "code",
   "execution_count": 10,
   "metadata": {
    "ExecuteTime": {
     "end_time": "2020-08-14T01:30:29.453558Z",
     "start_time": "2020-08-14T01:30:29.415660Z"
    }
   },
   "outputs": [
    {
     "name": "stdout",
     "output_type": "stream",
     "text": [
      "               name  type  value  date\n",
      "year                                  \n",
      "2009 0         哈佛大学     1      1  2009\n",
      "     1        斯坦福大学     2      2  2009\n",
      "     2     加州大学-伯克利     3      3  2009\n",
      "     3       麻省理工学院     5      5  2009\n",
      "     4       加州理工学院     6      6  2009\n",
      "...             ...   ...    ...   ...\n",
      "2018 15  华盛顿大学-圣路易斯    20     20  2018\n",
      "     16    加州大学-旧金山    21     21  2018\n",
      "     17  西北大学（埃文斯顿）    25     25  2018\n",
      "     18        杜克大学    26     26  2018\n",
      "     19   密歇根大学-安娜堡    27     27  2018\n",
      "\n",
      "[200 rows x 4 columns]\n"
     ]
    }
   ],
   "source": [
    "analysis_country(df_US)"
   ]
  },
  {
   "cell_type": "code",
   "execution_count": 48,
   "metadata": {
    "ExecuteTime": {
     "end_time": "2020-08-14T01:56:46.329797Z",
     "start_time": "2020-08-14T01:56:46.324811Z"
    }
   },
   "outputs": [],
   "source": [
    "def analysis_university(df,university,country=None):\n",
    "    df=df[df['university']==university]\n",
    "    if country:\n",
    "        df=df[df['country']==country]\n",
    "    df.index=df['year']\n",
    "    print(df)\n",
    "    df['index_rank'].astype(float).plot()\n",
    "    plt.show()\n",
    "\n",
    "    "
   ]
  },
  {
   "cell_type": "code",
   "execution_count": 49,
   "metadata": {
    "ExecuteTime": {
     "end_time": "2020-08-14T01:56:51.322680Z",
     "start_time": "2020-08-14T01:56:51.225224Z"
    }
   },
   "outputs": [
    {
     "name": "stdout",
     "output_type": "stream",
     "text": [
      "     world rank university  score index_rank  year       country\n",
      "year                                                            \n",
      "2009          1       哈佛大学  100.0          1  2009  UnitedStates\n",
      "2010          1       哈佛大学  100.0          1  2010  UnitedStates\n",
      "2011          1       哈佛大学  100.0          1  2011  UnitedStates\n",
      "2012          1       哈佛大学  100.0          1  2012  UnitedStates\n",
      "2013          1       哈佛大学  100.0          1  2013  UnitedStates\n",
      "2014          1       哈佛大学    100          1  2014           USA\n",
      "2015          1       哈佛大学  100.0          1  2015           USA\n",
      "2016          1       哈佛大学  100.0          1  2016           USA\n",
      "2017          1       哈佛大学  100.0          1  2017           USA\n",
      "2018          1       哈佛大学  100.0          1  2018           USA\n"
     ]
    },
    {
     "data": {
      "image/png": "[encoded data removed]",
      "text/plain": [
       "<Figure size 432x288 with 1 Axes>"
      ]
     },
     "metadata": {
      "needs_background": "light"
     },
     "output_type": "display_data"
    }
   ],
   "source": [
    "analysis_university(df,'哈佛大学')"
   ]
  },
  {
   "cell_type": "markdown",
   "metadata": {},
   "source": [
    "哈佛大学永远排在第一名"
   ]
  },
  {
   "cell_type": "code",
   "execution_count": 35,
   "metadata": {
    "ExecuteTime": {
     "end_time": "2020-08-14T01:43:22.698382Z",
     "start_time": "2020-08-14T01:43:22.685419Z"
    }
   },
   "outputs": [
    {
     "data": {
      "text/html": [
       "<div>\n",
       "<style scoped>\n",
       "    .dataframe tbody tr th:only-of-type {\n",
       "        vertical-align: middle;\n",
       "    }\n",
       "\n",
       "    .dataframe tbody tr th {\n",
       "        vertical-align: top;\n",
       "    }\n",
       "\n",
       "    .dataframe thead th {\n",
       "        text-align: right;\n",
       "    }\n",
       "</style>\n",
       "<table border=\"1\" class=\"dataframe\">\n",
       "  <thead>\n",
       "    <tr style=\"text-align: right;\">\n",
       "      <th></th>\n",
       "      <th>world rank</th>\n",
       "      <th>university</th>\n",
       "      <th>score</th>\n",
       "      <th>index_rank</th>\n",
       "      <th>year</th>\n",
       "      <th>country</th>\n",
       "    </tr>\n",
       "  </thead>\n",
       "  <tbody>\n",
       "    <tr>\n",
       "      <td>219</td>\n",
       "      <td>201-302</td>\n",
       "      <td>南京大学</td>\n",
       "      <td>NaN</td>\n",
       "      <td>220</td>\n",
       "      <td>2009</td>\n",
       "      <td>China</td>\n",
       "    </tr>\n",
       "    <tr>\n",
       "      <td>226</td>\n",
       "      <td>201-302</td>\n",
       "      <td>北京大学</td>\n",
       "      <td>NaN</td>\n",
       "      <td>227</td>\n",
       "      <td>2009</td>\n",
       "      <td>China</td>\n",
       "    </tr>\n",
       "    <tr>\n",
       "      <td>232</td>\n",
       "      <td>201-302</td>\n",
       "      <td>上海交通大学</td>\n",
       "      <td>NaN</td>\n",
       "      <td>233</td>\n",
       "      <td>2009</td>\n",
       "      <td>China</td>\n",
       "    </tr>\n",
       "    <tr>\n",
       "      <td>250</td>\n",
       "      <td>201-302</td>\n",
       "      <td>清华大学</td>\n",
       "      <td>NaN</td>\n",
       "      <td>251</td>\n",
       "      <td>2009</td>\n",
       "      <td>China</td>\n",
       "    </tr>\n",
       "    <tr>\n",
       "      <td>285</td>\n",
       "      <td>201-302</td>\n",
       "      <td>中国科学技术大学</td>\n",
       "      <td>NaN</td>\n",
       "      <td>286</td>\n",
       "      <td>2009</td>\n",
       "      <td>China</td>\n",
       "    </tr>\n",
       "    <tr>\n",
       "      <td>...</td>\n",
       "      <td>...</td>\n",
       "      <td>...</td>\n",
       "      <td>...</td>\n",
       "      <td>...</td>\n",
       "      <td>...</td>\n",
       "      <td>...</td>\n",
       "    </tr>\n",
       "    <tr>\n",
       "      <td>4949</td>\n",
       "      <td>401-500</td>\n",
       "      <td>南京信息工程大学</td>\n",
       "      <td>NaN</td>\n",
       "      <td>440</td>\n",
       "      <td>2018</td>\n",
       "      <td>China</td>\n",
       "    </tr>\n",
       "    <tr>\n",
       "      <td>4953</td>\n",
       "      <td>401-500</td>\n",
       "      <td>东北大学（沈阳）</td>\n",
       "      <td>NaN</td>\n",
       "      <td>444</td>\n",
       "      <td>2018</td>\n",
       "      <td>China</td>\n",
       "    </tr>\n",
       "    <tr>\n",
       "      <td>4956</td>\n",
       "      <td>401-500</td>\n",
       "      <td>北京协和医学院</td>\n",
       "      <td>NaN</td>\n",
       "      <td>447</td>\n",
       "      <td>2018</td>\n",
       "      <td>China</td>\n",
       "    </tr>\n",
       "    <tr>\n",
       "      <td>4961</td>\n",
       "      <td>401-500</td>\n",
       "      <td>上海大学</td>\n",
       "      <td>NaN</td>\n",
       "      <td>452</td>\n",
       "      <td>2018</td>\n",
       "      <td>China</td>\n",
       "    </tr>\n",
       "    <tr>\n",
       "      <td>4998</td>\n",
       "      <td>401-500</td>\n",
       "      <td>北京科技大学</td>\n",
       "      <td>NaN</td>\n",
       "      <td>489</td>\n",
       "      <td>2018</td>\n",
       "      <td>China</td>\n",
       "    </tr>\n",
       "  </tbody>\n",
       "</table>\n",
       "<p>320 rows × 6 columns</p>\n",
       "</div>"
      ],
      "text/plain": [
       "     world rank university score index_rank  year country\n",
       "219     201-302       南京大学   NaN        220  2009   China\n",
       "226     201-302       北京大学   NaN        227  2009   China\n",
       "232     201-302     上海交通大学   NaN        233  2009   China\n",
       "250     201-302       清华大学   NaN        251  2009   China\n",
       "285     201-302   中国科学技术大学   NaN        286  2009   China\n",
       "...         ...        ...   ...        ...   ...     ...\n",
       "4949    401-500   南京信息工程大学   NaN        440  2018   China\n",
       "4953    401-500   东北大学（沈阳）   NaN        444  2018   China\n",
       "4956    401-500    北京协和医学院   NaN        447  2018   China\n",
       "4961    401-500       上海大学   NaN        452  2018   China\n",
       "4998    401-500     北京科技大学   NaN        489  2018   China\n",
       "\n",
       "[320 rows x 6 columns]"
      ]
     },
     "execution_count": 35,
     "metadata": {},
     "output_type": "execute_result"
    }
   ],
   "source": [
    "df_Mainland"
   ]
  },
  {
   "cell_type": "code",
   "execution_count": 51,
   "metadata": {
    "ExecuteTime": {
     "end_time": "2020-08-14T01:57:21.244879Z",
     "start_time": "2020-08-14T01:57:21.148492Z"
    }
   },
   "outputs": [
    {
     "name": "stdout",
     "output_type": "stream",
     "text": [
      "     world rank university score index_rank  year country\n",
      "year                                                     \n",
      "2009    201-302       清华大学   NaN        251  2009   China\n",
      "2010    151-200       清华大学   NaN        178  2010   China\n",
      "2011    151-200       清华大学   NaN        175  2011   China\n",
      "2012    151-200       清华大学   NaN        173  2012   China\n",
      "2013    151-200       清华大学   NaN        173  2013   China\n",
      "2014    101-150       清华大学   NaN        129  2014   China\n",
      "2015    101-150       清华大学   NaN        126  2015   China\n",
      "2016         58       清华大学  29.6         58  2016   China\n",
      "2017         48       清华大学  32.8         49  2017   China\n",
      "2018         45       清华大学  34.1         45  2018   China\n"
     ]
    },
    {
     "data": {
      "image/png": "[encoded data removed]",
      "text/plain": [
       "<Figure size 432x288 with 1 Axes>"
      ]
     },
     "metadata": {
      "needs_background": "light"
     },
     "output_type": "display_data"
    }
   ],
   "source": [
    "analysis_university(df_Mainland,'清华大学')"
   ]
  },
  {
   "cell_type": "code",
   "execution_count": 52,
   "metadata": {
    "ExecuteTime": {
     "end_time": "2020-08-14T01:57:22.514443Z",
     "start_time": "2020-08-14T01:57:22.415520Z"
    }
   },
   "outputs": [
    {
     "name": "stdout",
     "output_type": "stream",
     "text": [
      "     world rank university score index_rank  year country\n",
      "year                                                     \n",
      "2009    402-501     华中科技大学   NaN        422  2009   China\n",
      "2010    401-500     华中科技大学   NaN        421  2010   China\n",
      "2011    301-400     华中科技大学   NaN        320  2011   China\n",
      "2012    301-400     华中科技大学   NaN        322  2012   China\n",
      "2013    301-400     华中科技大学   NaN        322  2013   China\n",
      "2014    201-300     华中科技大学   NaN        215  2014   China\n",
      "2015    201-300     华中科技大学   NaN        219  2015   China\n",
      "2016    201-300     华中科技大学   NaN        218  2016   China\n",
      "2017    201-300     华中科技大学   NaN        217  2017   China\n",
      "2018    151-200     华中科技大学   NaN        156  2018   China\n"
     ]
    },
    {
     "data": {
      "image/png": "[encoded data removed]",
      "text/plain": [
       "<Figure size 432x288 with 1 Axes>"
      ]
     },
     "metadata": {
      "needs_background": "light"
     },
     "output_type": "display_data"
    }
   ],
   "source": [
    "analysis_university(df_Mainland,'华中科技大学')"
   ]
  },
  {
   "cell_type": "code",
   "execution_count": 83,
   "metadata": {
    "ExecuteTime": {
     "end_time": "2020-08-14T02:12:06.563719Z",
     "start_time": "2020-08-14T02:12:06.558732Z"
    }
   },
   "outputs": [],
   "source": [
    "def many_china_into_world(year,rank_num):\n",
    "    df=df_China[(df_China['index_rank'].astype(float)<=rank_num) & (df_China['year']==year)]\n",
    "    print(f'{year}年挤进前{rank_num}名的中国大学',df,len(df))\n",
    "    total_df=df_China[df_China['year']==year]\n",
    "    print('列出的中国大学总共有 ',len(total_df))\n",
    "    print('占比',len(df)/len(total_df)*100,'%')\n",
    "    \n",
    "    return len(df)/len(total_df)"
   ]
  },
  {
   "cell_type": "code",
   "execution_count": 78,
   "metadata": {
    "ExecuteTime": {
     "end_time": "2020-08-14T02:09:45.692123Z",
     "start_time": "2020-08-14T02:09:45.684102Z"
    }
   },
   "outputs": [
    {
     "name": "stdout",
     "output_type": "stream",
     "text": [
      "2010年挤进前300名的中国大学     university  year index_rank\n",
      "609       台湾大学  2010        108\n",
      "668       北京大学  2010        167\n",
      "672     香港中文大学  2010        171\n",
      "679       清华大学  2010        178\n",
      "711       复旦大学  2010        210\n",
      "721       南京大学  2010        220\n",
      "723     台湾成功大学  2010        222\n",
      "734     上海交通大学  2010        233\n",
      "741     香港理工大学  2010        240\n",
      "742     香港科技大学  2010        241\n",
      "745       香港大学  2010        244\n",
      "786   中国科学技术大学  2010        285\n",
      "801       浙江大学  2010        300 13\n",
      "列出的中国大学总共有  34\n",
      "占比 38.23529411764706 %\n"
     ]
    }
   ],
   "source": [
    "many_china_into_world('2010',300)"
   ]
  },
  {
   "cell_type": "code",
   "execution_count": 82,
   "metadata": {
    "ExecuteTime": {
     "end_time": "2020-08-14T02:10:49.061400Z",
     "start_time": "2020-08-14T02:10:48.742303Z"
    }
   },
   "outputs": [
    {
     "name": "stdout",
     "output_type": "stream",
     "text": [
      "2018年挤进前300名的中国大学      university  year index_rank\n",
      "4554       清华大学  2018         45\n",
      "4566       北京大学  2018         57\n",
      "4576       浙江大学  2018         67\n",
      "4617       复旦大学  2018        108\n",
      "4629     上海交通大学  2018        120\n",
      "4630       中山大学  2018        121\n",
      "4632       香港大学  2018        123\n",
      "4651   中国科学技术大学  2018        142\n",
      "4663    哈尔滨工业大学  2018        154\n",
      "4665     华中科技大学  2018        156\n",
      "4668       南京大学  2018        159\n",
      "4669       台湾大学  2018        160\n",
      "4674       四川大学  2018        165\n",
      "4679     香港中文大学  2018        170\n",
      "4709     西安交通大学  2018        200\n",
      "4711   北京航空航天大学  2018        202\n",
      "4712     北京师范大学  2018        203\n",
      "4714       中南大学  2018        205\n",
      "4717     中国医药大学  2018        208\n",
      "4718     香港城市大学  2018        209\n",
      "4722     大连理工大学  2018        213\n",
      "4732       吉林大学  2018        223\n",
      "4753       苏州大学  2018        244\n",
      "4754     华南理工大学  2018        245\n",
      "4755       东南大学  2018        246\n",
      "4758     香港理工大学  2018        249\n",
      "4759     香港科技大学  2018        250\n",
      "4763       天津大学  2018        254\n",
      "4774     电子科技大学  2018        265\n",
      "4809       武汉大学  2018        300 30\n",
      "列出的中国大学总共有  62\n",
      "占比 48.38709677419355 %\n"
     ]
    }
   ],
   "source": [
    "many_china_into_world('2018',300)"
   ]
  },
  {
   "cell_type": "code",
   "execution_count": 85,
   "metadata": {
    "ExecuteTime": {
     "end_time": "2020-08-14T02:13:07.136922Z",
     "start_time": "2020-08-14T02:13:06.991311Z"
    }
   },
   "outputs": [
    {
     "name": "stdout",
     "output_type": "stream",
     "text": [
      "2009年挤进前300名的中国大学     university  year index_rank\n",
      "108       台湾大学  2009        109\n",
      "219       南京大学  2009        220\n",
      "221     台湾成功大学  2009        222\n",
      "222     台湾清华大学  2009        223\n",
      "226       北京大学  2009        227\n",
      "232     上海交通大学  2009        233\n",
      "238     香港中文大学  2009        239\n",
      "240     香港科技大学  2009        241\n",
      "245       香港大学  2009        246\n",
      "250       清华大学  2009        251\n",
      "285   中国科学技术大学  2009        286 11\n",
      "列出的中国大学总共有  30\n",
      "占比 36.666666666666664 %\n",
      "2010年挤进前300名的中国大学     university  year index_rank\n",
      "609       台湾大学  2010        108\n",
      "668       北京大学  2010        167\n",
      "672     香港中文大学  2010        171\n",
      "679       清华大学  2010        178\n",
      "711       复旦大学  2010        210\n",
      "721       南京大学  2010        220\n",
      "723     台湾成功大学  2010        222\n",
      "734     上海交通大学  2010        233\n",
      "741     香港理工大学  2010        240\n",
      "742     香港科技大学  2010        241\n",
      "745       香港大学  2010        244\n",
      "786   中国科学技术大学  2010        285\n",
      "801       浙江大学  2010        300 13\n",
      "列出的中国大学总共有  34\n",
      "占比 38.23529411764706 %\n",
      "2011年挤进前300名的中国大学      university  year index_rank\n",
      "1114       台湾大学  2011        112\n",
      "1171     香港中文大学  2011        169\n",
      "1177       清华大学  2011        175\n",
      "1211       复旦大学  2011        209\n",
      "1219       南京大学  2011        217\n",
      "1222     台湾成功大学  2011        220\n",
      "1226       北京大学  2011        224\n",
      "1233     上海交通大学  2011        231\n",
      "1239     香港理工大学  2011        237\n",
      "1240     香港科技大学  2011        238\n",
      "1244       香港大学  2011        242\n",
      "1287   中国科学技术大学  2011        285\n",
      "1302       浙江大学  2011        300 13\n",
      "列出的中国大学总共有  35\n",
      "占比 37.142857142857146 %\n",
      "2012年挤进前300名的中国大学      university  year index_rank\n",
      "1616       台湾大学  2012        113\n",
      "1666       北京大学  2012        163\n",
      "1667     上海交通大学  2012        164\n",
      "1670     香港中文大学  2012        167\n",
      "1673       香港大学  2012        170\n",
      "1676       清华大学  2012        173\n",
      "1703       浙江大学  2012        200\n",
      "1707     香港城市大学  2012        204\n",
      "1714       复旦大学  2012        211\n",
      "1723       南京大学  2012        220\n",
      "1725     台湾成功大学  2012        222\n",
      "1726     台湾清华大学  2012        223\n",
      "1743     香港理工大学  2012        240\n",
      "1744     香港科技大学  2012        241\n",
      "1792   中国科学技术大学  2012        289 15\n",
      "列出的中国大学总共有  42\n",
      "占比 35.714285714285715 %\n",
      "2013年挤进前300名的中国大学      university  year index_rank\n",
      "2117       台湾大学  2013        113\n",
      "2161       复旦大学  2013        157\n",
      "2170       北京大学  2013        166\n",
      "2171     上海交通大学  2013        167\n",
      "2174     香港中文大学  2013        170\n",
      "2177       清华大学  2013        173\n",
      "2204       浙江大学  2013        200\n",
      "2224       南京大学  2013        220\n",
      "2226     台湾清华大学  2013        222\n",
      "2239       中山大学  2013        235\n",
      "2244     香港科技大学  2013        240\n",
      "2251       香港大学  2013        247\n",
      "2294   中国科学技术大学  2013        290 13\n",
      "列出的中国大学总共有  42\n",
      "占比 30.952380952380953 %\n",
      "2014年挤进前300名的中国大学      university  year index_rank\n",
      "2622       台湾大学  2014        117\n",
      "2624       北京大学  2014        119\n",
      "2627     上海交通大学  2014        122\n",
      "2634       清华大学  2014        129\n",
      "2657       复旦大学  2014        152\n",
      "2669     香港中文大学  2014        164\n",
      "2673       香港大学  2014        168\n",
      "2697   中国科学技术大学  2014        192\n",
      "2705       浙江大学  2014        200\n",
      "2708     北京师范大学  2014        203\n",
      "2710     香港城市大学  2014        205\n",
      "2719    哈尔滨工业大学  2014        214\n",
      "2720     华中科技大学  2014        215\n",
      "2730       南京大学  2014        225\n",
      "2732     台湾成功大学  2014        227\n",
      "2733     台湾清华大学  2014        228\n",
      "2747       中山大学  2014        242\n",
      "2751     香港科技大学  2014        246\n",
      "2803     西安交通大学  2014        298 19\n",
      "列出的中国大学总共有  44\n",
      "占比 43.18181818181818 %\n",
      "2015年挤进前300名的中国大学      university  year index_rank\n",
      "3121       北京大学  2015        115\n",
      "3124     上海交通大学  2015        118\n",
      "3132       清华大学  2015        126\n",
      "3156       浙江大学  2015        150\n",
      "3160       复旦大学  2015        154\n",
      "3168       台湾大学  2015        162\n",
      "3174       中山大学  2015        168\n",
      "3176     香港中文大学  2015        170\n",
      "3179       香港大学  2015        173\n",
      "3199   中国科学技术大学  2015        193\n",
      "3209     北京师范大学  2015        203\n",
      "3212     香港城市大学  2015        206\n",
      "3224    哈尔滨工业大学  2015        218\n",
      "3225     华中科技大学  2015        219\n",
      "3227       吉林大学  2015        221\n",
      "3238       南京大学  2015        232\n",
      "3240     台湾清华大学  2015        234\n",
      "3253     香港科技大学  2015        247\n",
      "3304     西安交通大学  2015        298 19\n",
      "列出的中国大学总共有  44\n",
      "占比 43.18181818181818 %\n",
      "2016年挤进前300名的中国大学       university  year index_rank\n",
      "3565        清华大学  2016         58\n",
      "3578        北京大学  2016         71\n",
      "3615        复旦大学  2016        108\n",
      "3626      上海交通大学  2016        119\n",
      "3629        香港大学  2016        122\n",
      "3650    中国科学技术大学  2016        143\n",
      "3657        浙江大学  2016        150\n",
      "3659  中国医药大学(台湾)  2016        152\n",
      "3661     哈尔滨工业大学  2016        154\n",
      "3668        台湾大学  2016        161\n",
      "3673        中山大学  2016        166\n",
      "3707      西安交通大学  2016        200\n",
      "3710      北京师范大学  2016        203\n",
      "3714      香港城市大学  2016        207\n",
      "3725      华中科技大学  2016        218\n",
      "3729        吉林大学  2016        222\n",
      "3740        南京大学  2016        233\n",
      "3749        四川大学  2016        242\n",
      "3750        苏州大学  2016        243\n",
      "3751      华南理工大学  2016        244\n",
      "3752        东南大学  2016        245\n",
      "3755      香港中文大学  2016        248\n",
      "3756      香港科技大学  2016        249\n",
      "3805        厦门大学  2016        298 24\n",
      "列出的中国大学总共有  54\n",
      "占比 44.44444444444444 %\n",
      "2017年挤进前300名的中国大学      university  year index_rank\n",
      "4057       清华大学  2017         49\n",
      "4080       北京大学  2017         72\n",
      "4116       复旦大学  2017        108\n",
      "4128     上海交通大学  2017        120\n",
      "4133       香港大学  2017        125\n",
      "4149   中国科学技术大学  2017        141\n",
      "4158       浙江大学  2017        150\n",
      "4159     中国医药大学  2017        151\n",
      "4162    哈尔滨工业大学  2017        154\n",
      "4166       台湾大学  2017        158\n",
      "4170       四川大学  2017        162\n",
      "4171       中山大学  2017        163\n",
      "4174     香港中文大学  2017        166\n",
      "4210     北京师范大学  2017        202\n",
      "4213     香港城市大学  2017        205\n",
      "4225     华中科技大学  2017        217\n",
      "4238       南京大学  2017        230\n",
      "4250       苏州大学  2017        242\n",
      "4251     华南理工大学  2017        243\n",
      "4252       东南大学  2017        244\n",
      "4256     香港理工大学  2017        248\n",
      "4257     香港科技大学  2017        249\n",
      "4274     电子科技大学  2017        266\n",
      "4305       武汉大学  2017        297\n",
      "4306     西安交通大学  2017        298 25\n",
      "列出的中国大学总共有  57\n",
      "占比 43.859649122807014 %\n",
      "2018年挤进前300名的中国大学      university  year index_rank\n",
      "4554       清华大学  2018         45\n",
      "4566       北京大学  2018         57\n",
      "4576       浙江大学  2018         67\n",
      "4617       复旦大学  2018        108\n",
      "4629     上海交通大学  2018        120\n",
      "4630       中山大学  2018        121\n",
      "4632       香港大学  2018        123\n",
      "4651   中国科学技术大学  2018        142\n",
      "4663    哈尔滨工业大学  2018        154\n",
      "4665     华中科技大学  2018        156\n",
      "4668       南京大学  2018        159\n",
      "4669       台湾大学  2018        160\n",
      "4674       四川大学  2018        165\n",
      "4679     香港中文大学  2018        170\n",
      "4709     西安交通大学  2018        200\n",
      "4711   北京航空航天大学  2018        202\n",
      "4712     北京师范大学  2018        203\n",
      "4714       中南大学  2018        205\n",
      "4717     中国医药大学  2018        208\n",
      "4718     香港城市大学  2018        209\n",
      "4722     大连理工大学  2018        213\n",
      "4732       吉林大学  2018        223\n",
      "4753       苏州大学  2018        244\n",
      "4754     华南理工大学  2018        245\n",
      "4755       东南大学  2018        246\n",
      "4758     香港理工大学  2018        249\n",
      "4759     香港科技大学  2018        250\n",
      "4763       天津大学  2018        254\n",
      "4774     电子科技大学  2018        265\n",
      "4809       武汉大学  2018        300 30\n",
      "列出的中国大学总共有  62\n",
      "占比 48.38709677419355 %\n"
     ]
    },
    {
     "data": {
      "text/plain": [
       "[<matplotlib.lines.Line2D at 0x24894812198>]"
      ]
     },
     "execution_count": 85,
     "metadata": {},
     "output_type": "execute_result"
    },
    {
     "data": {
      "image/png": "[encoded data removed]",
      "text/plain": [
       "<Figure size 432x288 with 1 Axes>"
      ]
     },
     "metadata": {
      "needs_background": "light"
     },
     "output_type": "display_data"
    }
   ],
   "source": [
    "ps_300=[]\n",
    "for year in range(2009,2019):\n",
    "    year=str(year)\n",
    "    ps_300.append(many_china_into_world(year,300))\n",
    "plt.plot(range(2009,2019),ps_300)\n",
    "plt.show()"
   ]
  },
  {
   "cell_type": "code",
   "execution_count": 86,
   "metadata": {
    "ExecuteTime": {
     "end_time": "2020-08-14T02:13:45.705998Z",
     "start_time": "2020-08-14T02:13:45.575318Z"
    }
   },
   "outputs": [
    {
     "name": "stdout",
     "output_type": "stream",
     "text": [
      "2009年挤进前100名的中国大学 Empty DataFrame\n",
      "Columns: [university, year, index_rank]\n",
      "Index: [] 0\n",
      "列出的中国大学总共有  30\n",
      "占比 0.0 %\n",
      "2010年挤进前100名的中国大学 Empty DataFrame\n",
      "Columns: [university, year, index_rank]\n",
      "Index: [] 0\n",
      "列出的中国大学总共有  34\n",
      "占比 0.0 %\n",
      "2011年挤进前100名的中国大学 Empty DataFrame\n",
      "Columns: [university, year, index_rank]\n",
      "Index: [] 0\n",
      "列出的中国大学总共有  35\n",
      "占比 0.0 %\n",
      "2012年挤进前100名的中国大学 Empty DataFrame\n",
      "Columns: [university, year, index_rank]\n",
      "Index: [] 0\n",
      "列出的中国大学总共有  42\n",
      "占比 0.0 %\n",
      "2013年挤进前100名的中国大学 Empty DataFrame\n",
      "Columns: [university, year, index_rank]\n",
      "Index: [] 0\n",
      "列出的中国大学总共有  42\n",
      "占比 0.0 %\n",
      "2014年挤进前100名的中国大学 Empty DataFrame\n",
      "Columns: [university, year, index_rank]\n",
      "Index: [] 0\n",
      "列出的中国大学总共有  44\n",
      "占比 0.0 %\n",
      "2015年挤进前100名的中国大学 Empty DataFrame\n",
      "Columns: [university, year, index_rank]\n",
      "Index: [] 0\n",
      "列出的中国大学总共有  44\n",
      "占比 0.0 %\n",
      "2016年挤进前100名的中国大学      university  year index_rank\n",
      "3565       清华大学  2016         58\n",
      "3578       北京大学  2016         71 2\n",
      "列出的中国大学总共有  54\n",
      "占比 3.7037037037037033 %\n",
      "2017年挤进前100名的中国大学      university  year index_rank\n",
      "4057       清华大学  2017         49\n",
      "4080       北京大学  2017         72 2\n",
      "列出的中国大学总共有  57\n",
      "占比 3.508771929824561 %\n",
      "2018年挤进前100名的中国大学      university  year index_rank\n",
      "4554       清华大学  2018         45\n",
      "4566       北京大学  2018         57\n",
      "4576       浙江大学  2018         67 3\n",
      "列出的中国大学总共有  62\n",
      "占比 4.838709677419355 %\n"
     ]
    },
    {
     "data": {
      "text/plain": [
       "[<matplotlib.lines.Line2D at 0x24897851080>]"
      ]
     },
     "execution_count": 86,
     "metadata": {},
     "output_type": "execute_result"
    },
    {
     "data": {
      "image/png": "[encoded data removed]",
      "text/plain": [
       "<Figure size 432x288 with 1 Axes>"
      ]
     },
     "metadata": {
      "needs_background": "light"
     },
     "output_type": "display_data"
    }
   ],
   "source": [
    "ps_100=[]\n",
    "for year in range(2009,2019):\n",
    "    year=str(year)\n",
    "    ps_100.append(many_china_into_world(year,100))\n",
    "plt.plot(range(2009,2019),ps_100)\n",
    "plt.show()"
   ]
  },
  {
   "cell_type": "code",
   "execution_count": null,
   "metadata": {},
   "outputs": [],
   "source": []
  }
 ],
 "metadata": {
  "hide_input": false,
  "kernelspec": {
   "display_name": "Python 3",
   "language": "python",
   "name": "python3"
  },
  "language_info": {
   "codemirror_mode": {
    "name": "ipython",
    "version": 3
   },
   "file_extension": ".py",
   "mimetype": "text/x-python",
   "name": "python",
   "nbconvert_exporter": "python",
   "pygments_lexer": "ipython3",
   "version": "3.6.4"
  },
  "latex_envs": {
   "LaTeX_envs_menu_present": true,
   "autoclose": false,
   "autocomplete": true,
   "bibliofile": "biblio.bib",
   "cite_by": "apalike",
   "current_citInitial": 1,
   "eqLabelWithNumbers": true,
   "eqNumInitial": 1,
   "hotkeys": {
    "equation": "Ctrl-E",
    "itemize": "Ctrl-I"
   },
   "labels_anchors": false,
   "latex_user_defs": false,
   "report_style_numbering": false,
   "user_envs_cfg": false
  },
  "varInspector": {
   "cols": {
    "lenName": 16,
    "lenType": 16,
    "lenVar": 40
   },
   "kernels_config": {
    "python": {
     "delete_cmd_postfix": "",
     "delete_cmd_prefix": "del ",
     "library": "var_list.py",
     "varRefreshCmd": "print(var_dic_list())"
    },
    "r": {
     "delete_cmd_postfix": ") ",
     "delete_cmd_prefix": "rm(",
     "library": "var_list.r",
     "varRefreshCmd": "cat(var_dic_list()) "
    }
   },
   "types_to_exclude": [
    "module",
    "function",
    "builtin_function_or_method",
    "instance",
    "_Feature"
   ],
   "window_display": false
  }
 },
 "nbformat": 4,
 "nbformat_minor": 2
}
